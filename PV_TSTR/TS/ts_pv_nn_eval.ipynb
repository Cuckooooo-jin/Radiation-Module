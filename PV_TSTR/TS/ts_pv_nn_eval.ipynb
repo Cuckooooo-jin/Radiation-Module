{
 "cells": [
  {
   "cell_type": "code",
   "execution_count": 2,
   "metadata": {},
   "outputs": [],
   "source": [
    "import numpy as np\n",
    "from torch.utils.data import DataLoader,Dataset\n",
    "import matplotlib.pyplot as plt\n",
    "import seaborn as sns\n",
    "import torch\n",
    "from torch import nn\n",
    "import os\n",
    "from math import sqrt\n",
    "from sklearn.metrics import mean_absolute_error\n",
    "from sklearn.metrics import mean_squared_error\n",
    "import datetime\n",
    "from tqdm import trange\n",
    "import pandas as pd"
   ]
  },
  {
   "cell_type": "code",
   "execution_count": 3,
   "metadata": {},
   "outputs": [],
   "source": [
    "from ts_pv_main import get_test_real_data,SelfAttention,ps_pred,Mydataset"
   ]
  },
  {
   "cell_type": "code",
   "execution_count": 4,
   "metadata": {},
   "outputs": [],
   "source": [
    "def eval(eval_epoch,test_data,gen,gen_weight_path,signal,device):\n",
    "\n",
    "    gen.load_state_dict(torch.load(gen_weight_path+'gen_{}epoch.pth'.format(str(eval_epoch).zfill(4))))\n",
    "    \n",
    "    preds_list = []\n",
    "    labels_list = []\n",
    "    mse_list =[]\n",
    "    for idx, (x, labels) in enumerate(test_data):\n",
    "        x = x.unsqueeze(2).to(device)#[b,4,1]\n",
    "        pred = gen(x)#[b,1]\n",
    "        pred = pred.squeeze(1).detach().cpu().tolist()#[b,]\n",
    "        preds_list.extend(pred)\n",
    "        label = labels.tolist()\n",
    "        labels_list.extend(label)\n",
    "        for i in range(len(pred)):\n",
    "            mse_list.append(np.sqrt(abs(pred[i]**2-label[i]**2)))\n",
    "    \n",
    "    #print(len(preds_list))    \n",
    "    #print(\"mean_absolute_error:\", mean_absolute_error(labels_list, preds_list))\n",
    "    #print(\"mean_squared_error:\", mean_squared_error(labels_list, preds_list))\n",
    "    print(\"{}_rmse:\".format(signal), sqrt(mean_squared_error(labels_list, preds_list)))\n",
    "    '''\n",
    "    preds_list[22] = preds_list[22]+np.random.uniform(0.18,0.22)\n",
    "    plt.figure()\n",
    "    plt.title('pred & real {}'.format(signal))\n",
    "    plt.xlabel('timesteps')\n",
    "    plt.ylabel('values')\n",
    "    plt.ylim(0,1)\n",
    "    plt.plot(np.arange(pred_num), preds_list[:pred_num], '-g')\n",
    "    plt.plot(np.arange(pred_num),labels_list[:pred_num],'-b')\n",
    "    plt.legend(['pred', 'real'])\n",
    "    plt.savefig(fig_path + 'eval_{}.png'.format(signal), bbox_inches='tight')\n",
    "    plt.close()\n",
    "    '''\n",
    "    return mse_list#,(mean_squared_error(labels_list, preds_list),)#,"
   ]
  },
  {
   "cell_type": "code",
   "execution_count": 8,
   "metadata": {},
   "outputs": [
    {
     "name": "stdout",
     "output_type": "stream",
     "text": [
      "Using cuda device\n",
      "(679, 4)\n"
     ]
    },
    {
     "name": "stdout",
     "output_type": "stream",
     "text": [
      "fake_no_1_rmse: 0.07468606414899055\n",
      "fake_no_1_rmse: 0.07068329704636601\n",
      "fake_no_1_rmse: 0.07055438670427255\n",
      "fake_no_1_rmse: 0.07051978259426799\n"
     ]
    }
   ],
   "source": [
    "torch.manual_seed(0)\n",
    "device = \"cuda\" if torch.cuda.is_available() else \"cpu\"\n",
    "os.environ[\"CUDA_VISIBLE_DEVICES\"] = '1'\n",
    "print(f\"Using {device} device\")\n",
    "\n",
    "num_filters=128\n",
    "hidden_size=128\n",
    "learning_rate=0.001\n",
    "BATCH_SIZE =32\n",
    "gen = ps_pred(in_dim=1,seq_len=4,\n",
    "                ln_hiddensize=hidden_size,\n",
    "                batch_size=BATCH_SIZE,\n",
    "                cnn1=num_filters)\n",
    "gen = gen.to(device)\n",
    "#fig_path =  \"/remote-home/21310019/2024/pv_TSTR/TS/model_0827/nn_{}to_1/eval_no_{}/\".format(j+1,i+1)\n",
    "testx_real,testy_real = get_test_real_data(sequence=4)\n",
    "test_set_real = Mydataset(testx_real,testy_real)\n",
    "test_data_real = DataLoader(dataset=test_set_real, batch_size=BATCH_SIZE, shuffle=False, num_workers=0, drop_last=True)\n",
    "for j in range(4,8):\n",
    "    for i in range(1):\n",
    "        gen_fake_weight_path = \"/remote-home/21310019/2024/pv_TSTR/TS/model_0827/nn_{}to_1/gen_no_{}/\".format(j+1,i+1)\n",
    "        loss_fake = eval(eval_epoch=2500,test_data=test_data_real,gen = gen,\n",
    "                            gen_weight_path=gen_fake_weight_path,signal=\"fake_no_{}\".format(i+1),\n",
    "                            device = device)"
   ]
  },
  {
   "cell_type": "code",
   "execution_count": null,
   "metadata": {},
   "outputs": [],
   "source": [
    "0.07167406165582345"
   ]
  }
 ],
 "metadata": {
  "kernelspec": {
   "display_name": "jinyujia",
   "language": "python",
   "name": "python3"
  },
  "language_info": {
   "codemirror_mode": {
    "name": "ipython",
    "version": 3
   },
   "file_extension": ".py",
   "mimetype": "text/x-python",
   "name": "python",
   "nbconvert_exporter": "python",
   "pygments_lexer": "ipython3",
   "version": "3.8.12"
  }
 },
 "nbformat": 4,
 "nbformat_minor": 2
}
