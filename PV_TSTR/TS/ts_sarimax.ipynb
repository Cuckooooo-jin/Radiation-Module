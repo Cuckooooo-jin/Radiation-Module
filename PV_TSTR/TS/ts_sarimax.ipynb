{
 "cells": [
  {
   "cell_type": "code",
   "execution_count": 2,
   "metadata": {},
   "outputs": [],
   "source": [
    "import numpy as np\n",
    "import pandas as pd\n",
    "import matplotlib.pyplot as plt\n",
    "from statsmodels.tsa.statespace.sarimax import SARIMAX\n",
    "from statsmodels.tsa.stattools import adfuller, acf, pacf\n",
    "import statsmodels.api as sm\n",
    "from sklearn.metrics import mean_squared_error"
   ]
  },
  {
   "cell_type": "code",
   "execution_count": 3,
   "metadata": {},
   "outputs": [],
   "source": [
    "def get_test_real_data(sequence):\n",
    "\n",
    "    data_real = pd.read_csv(\"/remote-home/21310019/2024/pv_TSTR/TS/data_folder/ori_pv_start_from_0101.csv\",usecols=[\"PV/kwh\"]).values\n",
    "    data_real_ = data_real[9408:,:].reshape(-1,24)\n",
    "    def normalization(data):\n",
    "        _range = np.max(data) - np.min(data)\n",
    "        return (data - np.min(data)) / _range\n",
    "    #data_real_ = normalization(data_real)\n",
    "    #data_real_ = data_real_[9408:,:].reshape(-1,24)\n",
    "\n",
    "    #class_label = data_npz[\"arr_1\"]\n",
    "    daily_slice = []\n",
    "    daily_length_list = []\n",
    "    daily_length_count = []\n",
    "\n",
    "    for i in range(data_real_.shape[0]):\n",
    "        daily = data_real_[i,:]\n",
    "        sub_slice = []\n",
    "        for j in range(24):\n",
    "            if daily[j] != 0:\n",
    "                daily_length_count.append(j)\n",
    "                sub_slice.append(daily[j])\n",
    "        daily_length_list.append(len(sub_slice)) \n",
    "        daily_slice.append(sub_slice)  \n",
    "\n",
    "    #print(len(daily_slice))####416  \n",
    "    pv_drop0 = None\n",
    "    for i in range(len(daily_slice)):\n",
    "        fea = np.array(daily_slice[i])\n",
    "        if pv_drop0 is None:\n",
    "            pv_drop0 = fea\n",
    "        else:\n",
    "            pv_drop0 = np.concatenate([pv_drop0,fea],axis=0)\n",
    "\n",
    "    X = []\n",
    "    Y = []\n",
    "    for i in range(pv_drop0.shape[0] - sequence):\n",
    "        X.append(pv_drop0[i:(i + sequence)])##[4,1]\n",
    "        Y.append(pv_drop0[i + sequence])##1\n",
    "    print(np.array(X).shape)\n",
    "\n",
    "    max_value = {}\n",
    "    min_value = {}\n",
    "\n",
    "    # 构建batch\n",
    "    testx_pre = np.array(X)\n",
    "    testx = normalization(testx_pre)\n",
    "    \n",
    "    max_value[\"testx\"] = np.max(testx_pre)\n",
    "    min_value[\"testx\"] = np.min(testx_pre)\n",
    "\n",
    "    testy_pre = np.array(Y)\n",
    "    testy = normalization(testy_pre)\n",
    "    max_value[\"testy\"] = np.max(testy_pre)\n",
    "    min_value[\"testy\"] = np.min(testy_pre)\n",
    "\n",
    "    #return testx_pre,testy_pre\n",
    "    return testx,testy\n",
    "\n",
    "def get_fake_data(data_path,sequence):\n",
    "    \n",
    "    data_npz = np.load(\n",
    "            data_path)\n",
    "    data_real = pd.read_csv(\"/remote-home/21310019/2024/pv_TSTR/TS/data_folder/ori_pv_start_from_0101.csv\",usecols=[\"PV/kwh\"]).values\n",
    "    \n",
    "    def normalization(data):\n",
    "        _range = np.max(data) - np.min(data)\n",
    "        return (data - np.min(data)) / _range\n",
    "    \n",
    "    ori_data = np.mean(data_npz[\"arr_0\"],axis = 1)\n",
    "    data_real_ = np.concatenate([data_real[:8616,:],data_real[9408:,:]],axis = 0).reshape(-1,24)\n",
    "    ori_data_ = np.concatenate([normalization(data_real[:8616,:].reshape(-1,24)),normalization(ori_data)],axis = 0)\n",
    "    #class_label = data_npz[\"arr_1\"]\n",
    "    daily_slice = []\n",
    "    daily_length_list = []\n",
    "    daily_length_count = []\n",
    "\n",
    "    for i in range(ori_data_.shape[0]):\n",
    "        daily = ori_data_[i,:]\n",
    "        sub_slice = []\n",
    "        for j in range(24):\n",
    "            if daily[j] != 0:\n",
    "                daily_length_count.append(j)\n",
    "                sub_slice.append(daily[j])\n",
    "        daily_length_list.append(len(sub_slice)) \n",
    "        daily_slice.append(sub_slice)  \n",
    "\n",
    "    #print(len(daily_slice))####416  \n",
    "    pv_drop0 = None\n",
    "    for i in range(len(daily_slice)):\n",
    "        fea = np.array(daily_slice[i])\n",
    "        if pv_drop0 is None:\n",
    "            pv_drop0 = fea\n",
    "        else:\n",
    "            pv_drop0 = np.concatenate([pv_drop0,fea],axis=0)\n",
    "\n",
    "    X = []\n",
    "    Y = []\n",
    "    for i in range(pv_drop0.shape[0] - sequence):\n",
    "        X.append(pv_drop0[i:(i + sequence)])##[4,1]\n",
    "        Y.append(pv_drop0[i + sequence])##1\n",
    "    print(np.array(X).shape)\n",
    "\n",
    "    def normalization(data):\n",
    "        _range = np.max(data) - np.min(data)\n",
    "        return (data - np.min(data)) / _range\n",
    "\n",
    "    max_value = {}\n",
    "    min_value = {}\n",
    "\n",
    "    # 构建batch\n",
    "    total_len = len(Y)\n",
    "    train_len = int(0.9*total_len)\n",
    "\n",
    "    \n",
    "    trainx = np.array(X)\n",
    "    \n",
    "    max_value[\"trainx\"] = np.max( np.array(X[:int(0.9 * total_len)]))\n",
    "    min_value[\"trainx\"] = np.min( np.array(X[:int(0.9 * total_len)]))\n",
    "    \n",
    "    trainy = np.array(Y)\n",
    "\n",
    "    max_value[\"trainy\"] = np.max(Y[:int(0.9 * total_len)])\n",
    "    min_value[\"trainy\"] = np.min(Y[:int(0.9 * total_len)])\n",
    "     \n",
    "    testx_pre = np.array(X[int(0.9 * total_len):])\n",
    "    #testx = normalization(testx_pre)\n",
    "    \n",
    "    max_value[\"testx\"] = np.max(testx_pre)\n",
    "    min_value[\"testx\"] = np.min(testx_pre)\n",
    "\n",
    "    testy_pre = np.array(Y[int(0.9 * total_len):])\n",
    "    #testy = normalization(testy_pre)\n",
    "    max_value[\"testy\"] = np.max(testy_pre)\n",
    "    min_value[\"testy\"] = np.min(testy_pre)\n",
    "\n",
    "\n",
    "    return trainx, trainy"
   ]
  },
  {
   "cell_type": "code",
   "execution_count": 8,
   "metadata": {},
   "outputs": [],
   "source": [
    "def get_train_set(i):\n",
    "    data_npz = np.load(\n",
    "            '/remote-home/21310019/2024/pv_TSTR/TS/data_folder/fake_pv_arr_{}.npz'.format(i+1))\n",
    "    data_real = pd.read_csv(\"/remote-home/21310019/2024/pv_TSTR/TS/data_folder/ori_pv_start_from_0101.csv\",usecols=[\"PV/kwh\"]).values\n",
    "    \n",
    "    def normalization(data):\n",
    "        _range = np.max(data) - np.min(data)\n",
    "        return (data - np.min(data)) / _range\n",
    "    \n",
    "    ori_data = np.mean(data_npz[\"arr_0\"],axis = 1)\n",
    "    data_real_ = np.concatenate([data_real[:8616,:],data_real[9408:,:]],axis = 0).reshape(-1,24)\n",
    "    ori_data_ = np.concatenate([normalization(data_real[:8616,:].reshape(-1,24)),normalization(ori_data)],axis = 0)\n",
    "    #class_label = data_npz[\"arr_1\"]\n",
    "    daily_slice = []\n",
    "    daily_length_list = []\n",
    "    daily_length_count = []\n",
    "\n",
    "    for i in range(ori_data_.shape[0]):\n",
    "        daily = ori_data_[i,:]\n",
    "        sub_slice = []\n",
    "        for j in range(24):\n",
    "            if daily[j] != 0:\n",
    "                daily_length_count.append(j)\n",
    "                sub_slice.append(daily[j])\n",
    "        daily_length_list.append(len(sub_slice)) \n",
    "        daily_slice.append(sub_slice)  \n",
    "\n",
    "    #print(len(daily_slice))####416  \n",
    "    pv_drop0 = None\n",
    "    for i in range(len(daily_slice)):\n",
    "        fea = np.array(daily_slice[i])\n",
    "        if pv_drop0 is None:\n",
    "            pv_drop0 = fea\n",
    "        else:\n",
    "            pv_drop0 = np.concatenate([pv_drop0,fea],axis=0)\n",
    "\n",
    "    #print(\"len(test_data):\",pv_drop0.shape)\n",
    "    return normalization(pv_drop0)\n",
    "\n",
    "def get_train_set_different_ratio(i,bili):\n",
    "    data_npz = np.load(\n",
    "            '/remote-home/21310019/2024/pv_TSTR/TS/data_folder/fake_pv_arr_{}.npz'.format(i+1))\n",
    "    data_real = pd.read_csv(\"/remote-home/21310019/2024/pv_TSTR/TS/data_folder/ori_pv_start_from_0101.csv\",usecols=[\"PV/kwh\"]).values\n",
    "    \n",
    "    def normalization(data):\n",
    "        _range = np.max(data) - np.min(data)\n",
    "        return (data - np.min(data)) / _range\n",
    "    \n",
    "    if bili == 1:\n",
    "        ori_data = np.mean(data_npz[\"arr_0\"],axis = 1)##[359,8,24]-->[359,24]\n",
    "        #print(\"ori_fake_data_shape\",ori_data.shape)\n",
    "        ori_data_ = np.concatenate([normalization(data_real[:8616,:].reshape(-1,24)),normalization(ori_data)],axis = 0)\n",
    "    elif bili == 2:\n",
    "        ori_data = np.concatenate([np.mean(data_npz[\"arr_0\"][:,:4,:],axis = 1),\n",
    "                                   np.mean(data_npz[\"arr_0\"][:,-4:,:],axis = 1)],\n",
    "                                   axis = 0)##[359,8,24]-->[2*359,24]\n",
    "        #print(\"ori_fake_data_shape\",ori_data.shape)\n",
    "        ori_data_ = np.concatenate([normalization(data_real[:8616,:].reshape(-1,24)),normalization(ori_data)],axis = 0)\n",
    "    else:\n",
    "        ori_data = data_npz[\"arr_0\"][:,:bili,:].reshape(-1,24)##[359,8,24]-->[2*359,24]\n",
    "        #print(\"ori_fake_data_shape\",ori_data.shape)\n",
    "        ori_data_ = np.concatenate([normalization(data_real[:8616,:].reshape(-1,24)),normalization(ori_data)],axis = 0)\n",
    "    \n",
    "    \n",
    "    daily_slice = []\n",
    "    daily_length_list = []\n",
    "    daily_length_count = []\n",
    "\n",
    "    for i in range(ori_data_.shape[0]):\n",
    "        daily = ori_data_[i,:]\n",
    "        sub_slice = []\n",
    "        for j in range(24):\n",
    "            if daily[j] != 0:\n",
    "                daily_length_count.append(j)\n",
    "                sub_slice.append(daily[j])\n",
    "        daily_length_list.append(len(sub_slice)) \n",
    "        daily_slice.append(sub_slice)  \n",
    "\n",
    "    #print(len(daily_slice))####416  \n",
    "    pv_drop0 = None\n",
    "    for i in range(len(daily_slice)):\n",
    "        fea = np.array(daily_slice[i])\n",
    "        if pv_drop0 is None:\n",
    "            pv_drop0 = fea\n",
    "        else:\n",
    "            pv_drop0 = np.concatenate([pv_drop0,fea],axis=0)\n",
    "\n",
    "    #print(\"len(test_data):\",pv_drop0.shape)\n",
    "    return normalization(pv_drop0)\n",
    "\n",
    "def get_test_set():\n",
    "    data_real = pd.read_csv(\"/remote-home/21310019/2024/pv_TSTR/TS/data_folder/ori_pv_start_from_0101.csv\",usecols=[\"PV/kwh\"]).values\n",
    "    data_real_ = data_real[9408:,:].reshape(-1,24)\n",
    "    def normalization(data):\n",
    "        _range = np.max(data) - np.min(data)\n",
    "        return (data - np.min(data)) / _range\n",
    "    \n",
    "    daily_slice = []\n",
    "    daily_length_list = []\n",
    "    daily_length_count = []\n",
    "\n",
    "    for i in range(data_real_.shape[0]):\n",
    "        daily = data_real_[i,:]\n",
    "        sub_slice = []\n",
    "        for j in range(24):\n",
    "            if daily[j] != 0:\n",
    "                daily_length_count.append(j)\n",
    "                sub_slice.append(daily[j])\n",
    "        daily_length_list.append(len(sub_slice)) \n",
    "        daily_slice.append(sub_slice)  \n",
    "\n",
    "    #print(len(daily_slice))####416  \n",
    "    pv_drop0 = None\n",
    "    for i in range(len(daily_slice)):\n",
    "        fea = np.array(daily_slice[i])\n",
    "        if pv_drop0 is None:\n",
    "            pv_drop0 = fea\n",
    "        else:\n",
    "            pv_drop0 = np.concatenate([pv_drop0,fea],axis=0)\n",
    "    \n",
    "    #print(\"len(test_data):\",pv_drop0.shape)\n",
    "    return normalization(pv_drop0)\n"
   ]
  },
  {
   "cell_type": "code",
   "execution_count": 10,
   "metadata": {},
   "outputs": [],
   "source": [
    "def get_p_q(data_real):\n",
    "    # 检查是否平稳\n",
    "    result_adf = adfuller(data_real)\n",
    "    print('ADF Statistic:', result_adf[0])\n",
    "    print('p-value:', result_adf[1])##如果p-value < 0.05, 拒绝原假设，时间序列是平稳的\n",
    "\n",
    "    #绘制差分后的ACF和PACF图\n",
    "    fig, axes = plt.subplots(1, 2, figsize=(16, 4))\n",
    "    sm.graphics.tsa.plot_acf(data_real, lags=40, ax=axes[0])##根据pacf确定MA的阶数，即q\n",
    "    sm.graphics.tsa.plot_pacf(data_real, lags=40, ax=axes[1])##根据pacf确定AR的阶数，即p\n",
    "    plt.show()\n",
    "\n",
    "def fit_eva_sarimax(train,test):\n",
    "    # 定义和拟合ARIMA模型\n",
    "    p = 1  # 从PACF图中确定\n",
    "    d = 0 # 通过差分确定\n",
    "    q = 1 # 从ACF图中确定\n",
    "    seasonal_period = 4\n",
    "    #seasonal_period = 12\n",
    "    P=1\n",
    "    D=0\n",
    "    Q=1\n",
    "\n",
    "    # 定义SARIMAX模型的参数\n",
    "    order = (p, d, q)  # ARIMA部分的参数 (p, d, q)\n",
    "    seasonal_order = (P, D, Q, seasonal_period)  # 季节性部分的参数 (P, D, Q, s)，其中s是季节周期\n",
    "    # 拟合SARIMAX模型\n",
    "    \n",
    "    model = SARIMAX(train, order=order, seasonal_order=seasonal_order)\n",
    "    results = model.fit(disp=False)\n",
    "    # 输出模型摘要\n",
    "    #print(results.summary())\n",
    "    \n",
    "    # 预测\n",
    "    n_forecast = len(test)\n",
    "    forecast = results.get_forecast(steps=n_forecast)\n",
    "    forecast_index = test.index\n",
    "\n",
    "    # 获取预测结果和置信区间\n",
    "    forecast_values = forecast.predicted_mean\n",
    "    conf_int = forecast.conf_int()\n",
    "\n",
    "    # 创建预测结果的DataFrame\n",
    "    forecast_df = pd.DataFrame({\n",
    "        'forecast': forecast_values,\n",
    "        'lower_ci': conf_int.iloc[:, 0],\n",
    "        'upper_ci': conf_int.iloc[:, 1]\n",
    "    }, index=forecast_index)\n",
    "\n",
    "    # 计算评估指标\n",
    "    mse = mean_squared_error(test, forecast_values)\n",
    "    rmse = np.sqrt(mse)\n",
    "    #mae = mean_absolute_error(test, forecast_values)\n",
    "    #mape = np.mean(np.abs((test - forecast_values) / test)) * 100\n",
    "\n",
    "    #print(f'MSE: {mse}')\n",
    "    #print(f'RMSE: {rmse}')\n",
    "    #print(f'MAE: {mae}')\n",
    "    #print(f'MAPE: {mape}%')\n",
    "\n",
    "    '''\n",
    "    plt.figure(figsize=(12, 6))\n",
    "    plt.plot(train, label='Training Data')\n",
    "    plt.plot(test, label='Test Data')\n",
    "    plt.plot(forecast_df['forecast'], label='Forecast', color='red')\n",
    "    plt.fill_between(forecast_df.index, forecast_df['lower_ci'], forecast_df['upper_ci'], color='pink', alpha=0.3)\n",
    "    plt.legend()\n",
    "    plt.title('SARIMAX Model Forecast')\n",
    "    plt.xlabel('Date')\n",
    "    plt.ylabel('Value')\n",
    "    plt.show()\n",
    "    '''\n",
    "    return rmse"
   ]
  },
  {
   "cell_type": "code",
   "execution_count": 12,
   "metadata": {},
   "outputs": [],
   "source": [
    "##version_1: seasonal_period = 4\n",
    "rmse_list = []\n",
    "for i in range(10):\n",
    "    train_data = get_train_set(i)\n",
    "    test_data = get_test_set()\n",
    "    rmse = fit_eva_sarimax(train=pd.DataFrame(train_data),test=pd.DataFrame(test_data))\n",
    "    rmse_list.append(rmse)"
   ]
  },
  {
   "cell_type": "code",
   "execution_count": null,
   "metadata": {},
   "outputs": [],
   "source": [
    "##version_2: seasonal_period = 12\n",
    "rmse_list = []\n",
    "for i in range(10):\n",
    "    train_data = get_train_set(i)\n",
    "    test_data = get_test_set()\n",
    "    rmse = fit_eva_sarimax(train=pd.DataFrame(train_data),test=pd.DataFrame(test_data))\n",
    "    rmse_list.append(rmse)\n",
    "\n",
    "print(sum(rmse_list)/10)\n",
    "'''[0.43067316734139405,\n",
    " 0.4374401527187722,\n",
    " 0.35677314034752766,\n",
    " 0.4008322658255216,\n",
    " 0.33714615311563667,\n",
    " 0.33266435116896503,\n",
    " 0.3746192437038082,\n",
    " 0.3412881239219107,\n",
    " 0.4894617797311862,\n",
    " 0.34914405053548286]'''"
   ]
  },
  {
   "cell_type": "code",
   "execution_count": 11,
   "metadata": {},
   "outputs": [
    {
     "name": "stdout",
     "output_type": "stream",
     "text": [
      "[0.3685, 0.3703, 0.3702, 0.3694, 0.3706, 0.368, 0.3703, 0.37, 0.3702, 0.3683]\n",
      "[0.3858, 0.3657, 0.3586, 0.3591, 0.3898, 0.3845, 0.3978, 0.3952, 0.3884, 0.3918]\n",
      "[0.4071, 0.3722, 0.3614, 0.3542, 0.4062, 0.4012, 0.4181, 0.4165, 0.4069, 0.4114]\n"
     ]
    },
    {
     "name": "stderr",
     "output_type": "stream",
     "text": [
      "/root/anaconda3/envs/jinyujia/lib/python3.8/site-packages/statsmodels/base/model.py:607: ConvergenceWarning: Maximum Likelihood optimization failed to converge. Check mle_retvals\n",
      "  warnings.warn(\"Maximum Likelihood optimization failed to \"\n"
     ]
    },
    {
     "name": "stdout",
     "output_type": "stream",
     "text": [
      "[0.4262, 0.4318, 0.3692, 0.3581, 0.4319, 0.419, 0.4411, 0.4115, 0.4253, 0.4321]\n",
      "[0.4444, 0.4479, 0.3784, 0.4478, 0.4502, 0.4339, 0.4739, 0.4276, 0.443, 0.4503]\n"
     ]
    },
    {
     "name": "stderr",
     "output_type": "stream",
     "text": [
      "/root/anaconda3/envs/jinyujia/lib/python3.8/site-packages/statsmodels/base/model.py:607: ConvergenceWarning: Maximum Likelihood optimization failed to converge. Check mle_retvals\n",
      "  warnings.warn(\"Maximum Likelihood optimization failed to \"\n"
     ]
    },
    {
     "name": "stdout",
     "output_type": "stream",
     "text": [
      "[0.4589, 0.4528, 0.4643, 0.4633, 0.4659, 0.4483, 0.4904, 0.4419, 0.4568, 0.4623]\n",
      "[0.4719, 0.4653, 0.4768, 0.4686, 0.4799, 0.4627, 0.5044, 0.4549, 0.4696, 0.4758]\n"
     ]
    }
   ],
   "source": [
    "##version_1: seasonal_period = 4 with different bili\n",
    "loss_dic = {}\n",
    "for j in range(1,8):\n",
    "    loss_dic[f\"fake_to_real_{j+1}_bi_1\"] = []\n",
    "    for i in range(10):\n",
    "        train_data = get_train_set_different_ratio(i,j+1)\n",
    "        test_data = get_test_set()\n",
    "        rmse = fit_eva_sarimax(train=pd.DataFrame(train_data),test=pd.DataFrame(test_data))\n",
    "        loss_dic[f\"fake_to_real_{j+1}_bi_1\"].append(rmse)\n",
    "    formatted_numbers = [float(format(num, '.4f')) for num in loss_dic[f\"fake_to_real_{j+1}_bi_1\"]]\n",
    "    print(formatted_numbers)\n"
   ]
  },
  {
   "cell_type": "code",
   "execution_count": 15,
   "metadata": {},
   "outputs": [
    {
     "data": {
      "text/plain": [
       "[0.3927, 0.3696, 0.3817, 0.3955, 0.4146, 0.4397, 0.4605, 0.473]"
      ]
     },
     "execution_count": 15,
     "metadata": {},
     "output_type": "execute_result"
    }
   ],
   "source": [
    "mean_value_list = [0.3927]\n",
    "for key in loss_dic:\n",
    "    mean_value_list.append(float(format(sum(loss_dic[key])/10, '.4f')) )\n",
    "\n",
    "mean_value_list"
   ]
  },
  {
   "cell_type": "code",
   "execution_count": 24,
   "metadata": {},
   "outputs": [
    {
     "data": {
      "image/png": "[encoded data removed]",
      "text/plain": [
       "<Figure size 576x288 with 1 Axes>"
      ]
     },
     "metadata": {
      "needs_background": "light"
     },
     "output_type": "display_data"
    }
   ],
   "source": [
    "plt.figure(figsize=(8,4))\n",
    "plt.plot(np.arange(1,9),mean_value_list,marker='o', linestyle='-')\n",
    "for i in range(len(mean_value_list)):\n",
    "    if i == 7:\n",
    "        plt.text(i+1, mean_value_list[i], f'{mean_value_list[i]}', ha='center', va='bottom')\n",
    "    else:\n",
    "        plt.text(i+1, mean_value_list[i]+0.005, f'{mean_value_list[i]}', ha='center', va='bottom')\n",
    "## 10 Model Trainings under Different Augmented Dataset Specifications\"\n",
    "plt.title('Mean RMSE under Different Augmented Dataset Specifications',fontweight='bold')\n",
    "plt.xticks(range(1,9))\n",
    "#plt.yticks(range(500,1200,100))\n",
    "plt.xlabel('Ratio of Generated Data to Original Data in the Augmented Dataset')\n",
    "plt.ylabel('Mean RMSE of 10 Model Trainings')\n",
    "plt.grid(True)\n",
    "plt.show()"
   ]
  },
  {
   "cell_type": "code",
   "execution_count": 5,
   "metadata": {},
   "outputs": [],
   "source": [
    "nn_mean_value_list = [0.06929,0.07090,0.07073,0.06834,0.07469,0.07068,0.07055, 0.07051]"
   ]
  },
  {
   "cell_type": "code",
   "execution_count": 7,
   "metadata": {},
   "outputs": [
    {
     "data": {
      "image/png": "[encoded data removed]",
      "text/plain": [
       "<Figure size 576x288 with 1 Axes>"
      ]
     },
     "metadata": {
      "needs_background": "light"
     },
     "output_type": "display_data"
    }
   ],
   "source": [
    "plt.figure(figsize=(8,4))\n",
    "plt.plot(np.arange(1,9),nn_mean_value_list,marker='o', linestyle='-')\n",
    "for i in range(len(nn_mean_value_list)):\n",
    "    if i == 7:\n",
    "        plt.text(i+1, nn_mean_value_list[i], f'{nn_mean_value_list[i]}', ha='center', va='bottom')\n",
    "    else:\n",
    "        plt.text(i+1, nn_mean_value_list[i], f'{nn_mean_value_list[i]}', ha='center', va='bottom')\n",
    "## 10 Model Trainings under Different Augmented Dataset Specifications\"\n",
    "plt.title('Mean RMSE under Different Augmented Dataset Specifications',fontweight='bold')\n",
    "plt.xticks(range(1,9))\n",
    "#plt.yticks(range(500,1200,100))\n",
    "plt.xlabel('Ratio of Generated Data to Original Data in the Augmented Dataset')\n",
    "plt.ylabel('Mean RMSE of 10 Model Trainings')\n",
    "plt.grid(True)\n",
    "plt.show()"
   ]
  },
  {
   "cell_type": "code",
   "execution_count": 13,
   "metadata": {},
   "outputs": [
    {
     "data": {
      "text/plain": [
       "[0.3944937687960956,\n",
       " 0.39328179648552375,\n",
       " 0.3918177473080944,\n",
       " 0.3921377436927198,\n",
       " 0.3929341963191927,\n",
       " 0.39517349542945424,\n",
       " 0.3910078590014119,\n",
       " 0.39215352215382693,\n",
       " 0.39226648415906956,\n",
       " 0.39171121763422995]"
      ]
     },
     "execution_count": 13,
     "metadata": {},
     "output_type": "execute_result"
    }
   ],
   "source": [
    "rmse_list\n",
    "##trtr:RMSE: 0.41115573320780013\n"
   ]
  },
  {
   "cell_type": "code",
   "execution_count": 18,
   "metadata": {},
   "outputs": [
    {
     "data": {
      "text/plain": [
       "0.07049000000000001"
      ]
     },
     "execution_count": 18,
     "metadata": {},
     "output_type": "execute_result"
    }
   ],
   "source": [
    "sum([0.0775,\n",
    "0.0653,\n",
    "0.0683,\n",
    "0.0669,\n",
    "0.0757,\n",
    "0.0672,\n",
    "0.0803,\n",
    "0.0721,\n",
    "0.0618,\n",
    "0.0642,\n",
    "])/10\n",
    "sum([0.0766,\n",
    "0.0663,\n",
    "0.0828,\n",
    "0.0724,\n",
    "0.0573,\n",
    "0.0727,\n",
    "0.0605,\n",
    "0.0804,\n",
    "0.0759,\n",
    "0.0600\n",
    "])/10"
   ]
  },
  {
   "cell_type": "code",
   "execution_count": 2,
   "metadata": {},
   "outputs": [
    {
     "data": {
      "text/plain": [
       "0.3926977830979619"
      ]
     },
     "execution_count": 2,
     "metadata": {},
     "output_type": "execute_result"
    }
   ],
   "source": [
    "rmse_list =[0.3944937687960956,\n",
    " 0.39328179648552375,\n",
    " 0.3918177473080944,\n",
    " 0.3921377436927198,\n",
    " 0.3929341963191927,\n",
    " 0.39517349542945424,\n",
    " 0.3910078590014119,\n",
    " 0.39215352215382693,\n",
    " 0.39226648415906956,\n",
    " 0.39171121763422995]\n",
    "mean_rmse = sum(rmse_list)/10\n",
    "mean_rmse"
   ]
  }
 ],
 "metadata": {
  "kernelspec": {
   "display_name": "jinyujia",
   "language": "python",
   "name": "python3"
  },
  "language_info": {
   "codemirror_mode": {
    "name": "ipython",
    "version": 3
   },
   "file_extension": ".py",
   "mimetype": "text/x-python",
   "name": "python",
   "nbconvert_exporter": "python",
   "pygments_lexer": "ipython3",
   "version": "3.8.12"
  }
 },
 "nbformat": 4,
 "nbformat_minor": 2
}
