{
 "cells": [
  {
   "cell_type": "code",
   "execution_count": 1,
   "metadata": {},
   "outputs": [],
   "source": [
    "import numpy as np\n",
    "import pandas as pd\n",
    "from sklearn.svm import SVR\n",
    "import matplotlib.pyplot as plt\n",
    "from sklearn.preprocessing import StandardScaler\n",
    "from sklearn.metrics import mean_squared_error, mean_absolute_error"
   ]
  },
  {
   "cell_type": "code",
   "execution_count": 27,
   "metadata": {},
   "outputs": [],
   "source": [
    "def get_test_real_data(sequence):\n",
    "\n",
    "    data_real = pd.read_csv(\"/remote-home/21310019/2024/pv_TSTR/TS/data_folder/ori_pv_start_from_0101.csv\",usecols=[\"PV/kwh\"]).values\n",
    "    \n",
    "    def standardlize(data):\n",
    "        mu = np.mean(data)\n",
    "        sigma = np.std(data)\n",
    "        return (data-mu)/sigma\n",
    "    data_real_ = data_real[9408:,:].reshape(-1,24)\n",
    "    #class_label = data_npz[\"arr_1\"]\n",
    "    daily_slice = []\n",
    "    daily_length_list = []\n",
    "    daily_length_count = []\n",
    "\n",
    "    for i in range(data_real_.shape[0]):\n",
    "        daily = data_real_[i,:]\n",
    "        sub_slice = []\n",
    "        for j in range(24):\n",
    "            if daily[j] != 0:\n",
    "                daily_length_count.append(j)\n",
    "                sub_slice.append(daily[j])\n",
    "        daily_length_list.append(len(sub_slice)) \n",
    "        daily_slice.append(sub_slice)  \n",
    "\n",
    "    #print(len(daily_slice))####416  \n",
    "    pv_drop0 = None\n",
    "    for i in range(len(daily_slice)):\n",
    "        fea = np.array(daily_slice[i])\n",
    "        if pv_drop0 is None:\n",
    "            pv_drop0 = fea\n",
    "        else:\n",
    "            pv_drop0 = np.concatenate([pv_drop0,fea],axis=0)\n",
    "    pv_drop0 = standardlize(pv_drop0)\n",
    "    X = []\n",
    "    Y = []\n",
    "    for i in range(pv_drop0.shape[0] - sequence):\n",
    "        X.append(pv_drop0[i:(i + sequence)])##[4,1]\n",
    "        Y.append(pv_drop0[i + sequence])##1\n",
    "    print(\"testx.shape:\",np.array(X).shape)\n",
    "\n",
    "    max_value = {}\n",
    "    min_value = {}\n",
    "\n",
    "    # 构建batch\n",
    "    testx_pre = np.array(X)\n",
    "    max_value[\"testx\"] = np.max(testx_pre)\n",
    "    min_value[\"testx\"] = np.min(testx_pre)\n",
    "\n",
    "    testy_pre = np.array(Y)\n",
    "    max_value[\"testy\"] = np.max(testy_pre)\n",
    "    min_value[\"testy\"] = np.min(testy_pre)\n",
    "\n",
    "    return testx_pre,testy_pre.reshape(-1,1)\n",
    "\n",
    "def get_fake_data(data_path,sequence):\n",
    "    \n",
    "    data_npz = np.load(\n",
    "            data_path)\n",
    "    data_real = pd.read_csv(\"/remote-home/21310019/2024/pv_TSTR/TS/data_folder/ori_pv_start_from_0101.csv\",usecols=[\"PV/kwh\"]).values\n",
    "    \n",
    "    def standardlize(data):\n",
    "        mu = np.mean(data)\n",
    "        sigma = np.std(data)\n",
    "        return (data-mu)/sigma\n",
    "\n",
    "    ori_data = np.mean(data_npz[\"arr_0\"],axis = 1)\n",
    "\n",
    "    def drop_zero(ori_data_):\n",
    "         #class_label = data_npz[\"arr_1\"]\n",
    "        daily_slice = []\n",
    "        daily_length_list = []\n",
    "        daily_length_count = []\n",
    "\n",
    "        for i in range(ori_data_.shape[0]):\n",
    "            daily = ori_data_[i,:]\n",
    "            sub_slice = []\n",
    "            for j in range(24):\n",
    "                if daily[j] != 0:\n",
    "                    daily_length_count.append(j)\n",
    "                    sub_slice.append(daily[j])\n",
    "            daily_length_list.append(len(sub_slice)) \n",
    "            daily_slice.append(sub_slice)  \n",
    "        pv_drop0 = None\n",
    "        for i in range(len(daily_slice)):\n",
    "            fea = np.array(daily_slice[i])\n",
    "            if pv_drop0 is None:\n",
    "                pv_drop0 = fea\n",
    "            else:\n",
    "                pv_drop0 = np.concatenate([pv_drop0,fea],axis=0)    \n",
    "        return standardlize(pv_drop0)\n",
    "    pv_1 = drop_zero(data_real[:8616,:].reshape(-1,24))\n",
    "    pv_2 = drop_zero(ori_data)\n",
    "    pv_drop0 = np.concatenate([pv_1,pv_2],axis = 0)\n",
    "    \n",
    "    X = []\n",
    "    Y = []\n",
    "    for i in range(pv_drop0.shape[0] - sequence):\n",
    "        X.append(pv_drop0[i:(i + sequence)])##[4,1]\n",
    "        Y.append(pv_drop0[i + sequence])##1\n",
    "    #print(np.array(X).shape)\n",
    "    \n",
    "    trainx = np.array(X)    \n",
    "    trainy = np.array(Y)\n",
    "\n",
    "    return trainx, trainy.reshape(-1,1)"
   ]
  },
  {
   "cell_type": "code",
   "execution_count": 29,
   "metadata": {},
   "outputs": [
    {
     "name": "stdout",
     "output_type": "stream",
     "text": [
      "testx.shape: (679, 4)\n",
      "(8610, 1) (679, 1)\n",
      "(8610, 4) (679, 4)\n"
     ]
    },
    {
     "data": {
      "text/plain": [
       "'\\na = np.random.normal(loc=0, scale=1, size=(13276,1))\\nb = np.random.normal(loc=0, scale=1, size=(679,1))\\nscaler_X = StandardScaler()\\nscaler_y = StandardScaler()\\n\\na_scaled = scaler_X.fit_transform(a)\\nb_scaled = scaler_X.transform(b)\\na_scaled.shape,b_scaled.shape\\n'"
      ]
     },
     "execution_count": 29,
     "metadata": {},
     "output_type": "execute_result"
    }
   ],
   "source": [
    "trainx,trainy= get_fake_data(sequence=4,data_path ='/remote-home/21310019/2024/pv_TSTR/TS/data_folder/fake_pv_arr_{}.npz'.format(0+1) )\n",
    "testx_real,testy_real = get_test_real_data(sequence=4)\n",
    "print(trainy.shape,testy_real.shape)##(13276,) (679,)\n",
    "print(trainx.shape,testx_real.shape)##(13276,4) (679,4)\n",
    "'''\n",
    "a = np.random.normal(loc=0, scale=1, size=(13276,1))\n",
    "b = np.random.normal(loc=0, scale=1, size=(679,1))\n",
    "scaler_X = StandardScaler()\n",
    "scaler_y = StandardScaler()\n",
    "\n",
    "a_scaled = scaler_X.fit_transform(a)\n",
    "b_scaled = scaler_X.transform(b)\n",
    "a_scaled.shape,b_scaled.shape\n",
    "'''"
   ]
  },
  {
   "cell_type": "code",
   "execution_count": 30,
   "metadata": {},
   "outputs": [
    {
     "name": "stdout",
     "output_type": "stream",
     "text": [
      "testx.shape: (679, 4)\n"
     ]
    },
    {
     "name": "stderr",
     "output_type": "stream",
     "text": [
      "/root/anaconda3/envs/jinyujia/lib/python3.8/site-packages/sklearn/utils/validation.py:1184: DataConversionWarning: A column-vector y was passed when a 1d array was expected. Please change the shape of y to (n_samples, ), for example using ravel().\n",
      "  y = column_or_1d(y, warn=True)\n"
     ]
    },
    {
     "name": "stdout",
     "output_type": "stream",
     "text": [
      "(679,)\n",
      "RMSError: 0.3029921211893107\n",
      "Mean Absolute Error: 0.20249022348123893\n",
      "testx.shape: (679, 4)\n"
     ]
    },
    {
     "name": "stderr",
     "output_type": "stream",
     "text": [
      "/root/anaconda3/envs/jinyujia/lib/python3.8/site-packages/sklearn/utils/validation.py:1184: DataConversionWarning: A column-vector y was passed when a 1d array was expected. Please change the shape of y to (n_samples, ), for example using ravel().\n",
      "  y = column_or_1d(y, warn=True)\n"
     ]
    },
    {
     "name": "stdout",
     "output_type": "stream",
     "text": [
      "(679,)\n",
      "RMSError: 0.30130456219248913\n",
      "Mean Absolute Error: 0.20172823620482136\n",
      "testx.shape: (679, 4)\n"
     ]
    },
    {
     "name": "stderr",
     "output_type": "stream",
     "text": [
      "/root/anaconda3/envs/jinyujia/lib/python3.8/site-packages/sklearn/utils/validation.py:1184: DataConversionWarning: A column-vector y was passed when a 1d array was expected. Please change the shape of y to (n_samples, ), for example using ravel().\n",
      "  y = column_or_1d(y, warn=True)\n"
     ]
    },
    {
     "name": "stdout",
     "output_type": "stream",
     "text": [
      "(679,)\n",
      "RMSError: 0.3018518344936492\n",
      "Mean Absolute Error: 0.20170184785922687\n",
      "testx.shape: (679, 4)\n"
     ]
    },
    {
     "name": "stderr",
     "output_type": "stream",
     "text": [
      "/root/anaconda3/envs/jinyujia/lib/python3.8/site-packages/sklearn/utils/validation.py:1184: DataConversionWarning: A column-vector y was passed when a 1d array was expected. Please change the shape of y to (n_samples, ), for example using ravel().\n",
      "  y = column_or_1d(y, warn=True)\n"
     ]
    },
    {
     "name": "stdout",
     "output_type": "stream",
     "text": [
      "(679,)\n",
      "RMSError: 0.3006216057587711\n",
      "Mean Absolute Error: 0.2009966668765633\n",
      "testx.shape: (679, 4)\n"
     ]
    },
    {
     "name": "stderr",
     "output_type": "stream",
     "text": [
      "/root/anaconda3/envs/jinyujia/lib/python3.8/site-packages/sklearn/utils/validation.py:1184: DataConversionWarning: A column-vector y was passed when a 1d array was expected. Please change the shape of y to (n_samples, ), for example using ravel().\n",
      "  y = column_or_1d(y, warn=True)\n"
     ]
    },
    {
     "name": "stdout",
     "output_type": "stream",
     "text": [
      "(679,)\n",
      "RMSError: 0.2996943774643601\n",
      "Mean Absolute Error: 0.20110902315090845\n",
      "testx.shape: (679, 4)\n"
     ]
    },
    {
     "name": "stderr",
     "output_type": "stream",
     "text": [
      "/root/anaconda3/envs/jinyujia/lib/python3.8/site-packages/sklearn/utils/validation.py:1184: DataConversionWarning: A column-vector y was passed when a 1d array was expected. Please change the shape of y to (n_samples, ), for example using ravel().\n",
      "  y = column_or_1d(y, warn=True)\n"
     ]
    },
    {
     "name": "stdout",
     "output_type": "stream",
     "text": [
      "(679,)\n",
      "RMSError: 0.3011251000872709\n",
      "Mean Absolute Error: 0.20145464948858685\n",
      "testx.shape: (679, 4)\n"
     ]
    },
    {
     "name": "stderr",
     "output_type": "stream",
     "text": [
      "/root/anaconda3/envs/jinyujia/lib/python3.8/site-packages/sklearn/utils/validation.py:1184: DataConversionWarning: A column-vector y was passed when a 1d array was expected. Please change the shape of y to (n_samples, ), for example using ravel().\n",
      "  y = column_or_1d(y, warn=True)\n"
     ]
    },
    {
     "name": "stdout",
     "output_type": "stream",
     "text": [
      "(679,)\n",
      "RMSError: 0.2996836350013836\n",
      "Mean Absolute Error: 0.19988623265074196\n",
      "testx.shape: (679, 4)\n"
     ]
    },
    {
     "name": "stderr",
     "output_type": "stream",
     "text": [
      "/root/anaconda3/envs/jinyujia/lib/python3.8/site-packages/sklearn/utils/validation.py:1184: DataConversionWarning: A column-vector y was passed when a 1d array was expected. Please change the shape of y to (n_samples, ), for example using ravel().\n",
      "  y = column_or_1d(y, warn=True)\n"
     ]
    },
    {
     "name": "stdout",
     "output_type": "stream",
     "text": [
      "(679,)\n",
      "RMSError: 0.3022158080125505\n",
      "Mean Absolute Error: 0.20350828359436496\n",
      "testx.shape: (679, 4)\n"
     ]
    },
    {
     "name": "stderr",
     "output_type": "stream",
     "text": [
      "/root/anaconda3/envs/jinyujia/lib/python3.8/site-packages/sklearn/utils/validation.py:1184: DataConversionWarning: A column-vector y was passed when a 1d array was expected. Please change the shape of y to (n_samples, ), for example using ravel().\n",
      "  y = column_or_1d(y, warn=True)\n"
     ]
    },
    {
     "name": "stdout",
     "output_type": "stream",
     "text": [
      "(679,)\n",
      "RMSError: 0.30162778773105625\n",
      "Mean Absolute Error: 0.20359611856962473\n",
      "testx.shape: (679, 4)\n"
     ]
    },
    {
     "name": "stderr",
     "output_type": "stream",
     "text": [
      "/root/anaconda3/envs/jinyujia/lib/python3.8/site-packages/sklearn/utils/validation.py:1184: DataConversionWarning: A column-vector y was passed when a 1d array was expected. Please change the shape of y to (n_samples, ), for example using ravel().\n",
      "  y = column_or_1d(y, warn=True)\n"
     ]
    },
    {
     "name": "stdout",
     "output_type": "stream",
     "text": [
      "(679,)\n",
      "RMSError: 0.3008244764226059\n",
      "Mean Absolute Error: 0.19973749521678075\n"
     ]
    }
   ],
   "source": [
    "rmse_list = []\n",
    "for i in range(10):\n",
    "    trainx,trainy= get_fake_data(sequence=4,data_path ='/remote-home/21310019/2024/pv_TSTR/TS/data_folder/fake_pv_arr_{}.npz'.format(i+1) )\n",
    "    testx_real,testy_real = get_test_real_data(sequence=4)\n",
    "    \n",
    "    X_train_scaled =  trainx\n",
    "    X_test_scaled = testx_real\n",
    "\n",
    "    y_train_scaled = trainy\n",
    "    y_test_scaled = testy_real\n",
    "\n",
    "    # 训练SVR模型\n",
    "    svr_model = SVR(kernel='rbf', C=100, gamma=0.1, epsilon=0.1)\n",
    "    svr_model.fit(X_train_scaled, y_train_scaled)\n",
    "\n",
    "    # 预测\n",
    "    y_pred_scaled = svr_model.predict(X_test_scaled)\n",
    "    print(y_pred_scaled.shape)\n",
    "    \n",
    "    # 评估模型\n",
    "    mse = mean_squared_error(y_test_scaled, y_pred_scaled)\n",
    "    mae = mean_absolute_error(y_test_scaled, y_pred_scaled)\n",
    "    rmse = np.sqrt(mse)\n",
    "    print(f'RMSError: {rmse}')\n",
    "    print(f'Mean Absolute Error: {mae}')\n",
    "    rmse_list.append(rmse)\n"
   ]
  },
  {
   "cell_type": "code",
   "execution_count": 31,
   "metadata": {},
   "outputs": [
    {
     "data": {
      "text/plain": [
       "[0.3029921211893107,\n",
       " 0.30130456219248913,\n",
       " 0.3018518344936492,\n",
       " 0.3006216057587711,\n",
       " 0.2996943774643601,\n",
       " 0.3011251000872709,\n",
       " 0.2996836350013836,\n",
       " 0.3022158080125505,\n",
       " 0.30162778773105625,\n",
       " 0.3008244764226059]"
      ]
     },
     "execution_count": 31,
     "metadata": {},
     "output_type": "execute_result"
    }
   ],
   "source": [
    "rmse_list"
   ]
  },
  {
   "cell_type": "code",
   "execution_count": null,
   "metadata": {},
   "outputs": [],
   "source": [
    "'''\n",
    "# 可视化预测结果\n",
    "plt.figure(figsize=(10, 6))\n",
    "plt.plot(y_test, label='True Values')\n",
    "plt.plot(y_pred, label='Predicted Values', linestyle='dashed')\n",
    "plt.legend()\n",
    "plt.title('SVR Predictions vs True Values')\n",
    "plt.show()\n",
    "'''\n",
    "'''[0.3029921211893107,\n",
    " 0.30130456219248913,\n",
    " 0.3018518344936492,\n",
    " 0.3006216057587711,\n",
    " 0.2996943774643601,\n",
    " 0.3011251000872709,\n",
    " 0.2996836350013836,\n",
    " 0.3022158080125505,\n",
    " 0.30162778773105625,\n",
    " 0.3008244764226059]'''"
   ]
  },
  {
   "cell_type": "code",
   "execution_count": null,
   "metadata": {},
   "outputs": [],
   "source": []
  }
 ],
 "metadata": {
  "kernelspec": {
   "display_name": "jinyujia",
   "language": "python",
   "name": "python3"
  },
  "language_info": {
   "codemirror_mode": {
    "name": "ipython",
    "version": 3
   },
   "file_extension": ".py",
   "mimetype": "text/x-python",
   "name": "python",
   "nbconvert_exporter": "python",
   "pygments_lexer": "ipython3",
   "version": "3.8.12"
  }
 },
 "nbformat": 4,
 "nbformat_minor": 2
}
